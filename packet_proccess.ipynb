{
 "cells": [
  {
   "cell_type": "markdown",
   "id": "cde3968b-46ad-46f6-9356-695b46547b3e",
   "metadata": {},
   "source": [
    "## Пакетная обработка данных ЭЭГ по пациентам"
   ]
  },
  {
   "cell_type": "code",
   "execution_count": null,
   "id": "2ce54441-2d36-4599-98ac-ce77bc9058c4",
   "metadata": {},
   "outputs": [],
   "source": [
    "from scipy.io import loadmat\n",
    "import time\n",
    "import os, glob\n",
    "import pandas as pd\n",
    "import numpy as np\n",
    "import sympy\n",
    "import pickle\n",
    "from matplotlib import pyplot as plt\n",
    "\n",
    "import polynomial as pln"
   ]
  },
  {
   "cell_type": "markdown",
   "id": "8a3b5cc4-fc17-47d4-9999-cd62e626209a",
   "metadata": {},
   "source": [
    "Настройка базовых параметров и файлов данных"
   ]
  },
  {
   "cell_type": "code",
   "execution_count": null,
   "id": "5cf3b77d-7138-4063-aca8-e58182688563",
   "metadata": {},
   "outputs": [],
   "source": [
    "max_layer=10 # максимальное число слоёв в сети\n",
    "\n",
    "retry_num = 7 # максимальное количество попыток рачсёта при одном значении критерия сходимости\n",
    "error_goal = 0.005 # целевое значение среднеквадратиченой ошибки\n",
    "conv_thres_b = 0.02 # базовое значение критерия сходимости\n",
    "conv_thres_min = 0.01 # минимальное значение критерия сходимости\n",
    "\n",
    "n_points = 100 # количество точек в обучающей выборке\n",
    "\n",
    "path_to_files = \"resources/subject_*.mat\"\n",
    "output_file = \"resources/subjects_mx.pkl\"\n",
    "subjects = [\n",
    "    \"subject_00\",\n",
    "    \"subject_01\",\n",
    "    \"subject_02\",\n",
    "    \"subject_03\",\n",
    "    \"subject_04\",\n",
    "    \"subject_05\",\n",
    "    \"subject_06\",\n",
    "    \"subject_08\",\n",
    "    \"subject_09\",\n",
    "    \"subject_10\",\n",
    "]\n",
    "files = glob.glob(path_to_files)"
   ]
  },
  {
   "cell_type": "markdown",
   "id": "83aba5c0-cfd2-4ba5-a5d2-a213515b6939",
   "metadata": {},
   "source": [
    "Настройка формата данных ЭЭГ"
   ]
  },
  {
   "cell_type": "code",
   "execution_count": null,
   "id": "e5f3a9e4-f813-420e-969a-3399c4cae7d8",
   "metadata": {},
   "outputs": [],
   "source": [
    "electrodes = [\n",
    "    'Fp1',\n",
    "    'Fp2',\n",
    "    'Fc5',\n",
    "    'Fz',\n",
    "    'Fc6',\n",
    "    'T7',\n",
    "    'Cz',\n",
    "    'T8',\n",
    "    'P7',\n",
    "    'P3',\n",
    "    'Pz',\n",
    "    'P4',\n",
    "    'P8',\n",
    "    'O1',\n",
    "    'Oz',\n",
    "    'O2'\n",
    "]\n",
    "col_map = ['time']+electrodes\n",
    "train_ids = electrodes"
   ]
  },
  {
   "cell_type": "markdown",
   "id": "f12980ed-2545-465e-9259-d69ac1224c47",
   "metadata": {},
   "source": [
    "Цикл обработки"
   ]
  },
  {
   "cell_type": "code",
   "execution_count": null,
   "id": "b6f5acc6-bb59-4b47-bfa3-9d075eb08089",
   "metadata": {},
   "outputs": [],
   "source": [
    "for file in subjects:\n",
    "\n",
    "    if f\"{file}.mat\" not in files: \n",
    "        raise Exception(f\"В папке resources не найден файл {file}.mat. Проверьте путь или скачайте файл с https://zenodo.org/record/2348892\")\n",
    "    subj = loadmat(f\"{path_to_files}/{file}.mat\")\n",
    "\n",
    "\n",
    "    subj = pd.DataFrame({\n",
    "        col: arr for col, arr in zip(col_map, np.transpose(subj['SIGNAL']))\n",
    "    })\n",
    "\n",
    "\n",
    "    trees = []\n",
    "\n",
    "    norm_map = {el: subj[el].values.max()-subj[el].values.min() for el in electrodes}\n",
    "    mean_map = {el: subj[el].mean() for el in electrodes}\n",
    "    control_set = {el:(subj[el].values-mean_map[el])/norm_map[el] for el in electrodes}\n",
    "\n",
    "    for train_id in train_ids:\n",
    "        t = time.time()\n",
    "        print(f\"Начато обучение дерева для электрода {train_id}\")\n",
    "        conv_thres = conv_thres_b\n",
    "        error = error_goal+1\n",
    "        try_n = 0\n",
    "        ids = np.random.randint(0, subj[train_id].size, n_points)\n",
    "        ids.sort()\n",
    "\n",
    "        training_goal = control_set[train_id][ids]\n",
    "        training_set = {el:(subj[el][ids]-mean_map[el])/norm_map[el] for el in electrodes if el != train_id}\n",
    "\n",
    "        while error > error_goal and conv_thres >= conv_thres_min:\n",
    "            try_n +=1\n",
    "            conv_thres = conv_thres_b*1/2**(try_n//retry_num)\n",
    "\n",
    "            layer_num=1\n",
    "            ntree = pln.Tree(inputs=np.array(list(training_set.keys())), restrictions=[0,1,0,1,0,1])\n",
    "            ntree.regress(training_set, training_goal, conv_thres=conv_thres)\n",
    "            nerror = error = ntree.error()\n",
    "            while layer_num < max_layer and nerror <= error:\n",
    "                layer_num+=1\n",
    "                tree, error = ntree, nerror\n",
    "                ntree.new_layer(restrictions=[0,1,0,1,0,1], k=5)\n",
    "                ntree.regress(training_set, training_goal, conv_thres=conv_thres)\n",
    "                nerror = ntree.error()\n",
    "        tree.prune(top_k=1)\n",
    "        trees.append(tree)\n",
    "        print(f\"Обучение дерева для электрода {train_id} закончено за {time.time()-t} с. Ошибка {error}\")\n",
    "\n",
    "        fig, axs = plt.subplots(4, 4, figsize=(20, 12), constrained_layout=True)\n",
    "\n",
    "    with open(f\"{file}.pkl\", \"wb\") as f:\n",
    "        pickle.dump(trees, f)"
   ]
  },
  {
   "cell_type": "code",
   "execution_count": null,
   "id": "a397a81f-31fc-4c08-bea7-dbd680dac765",
   "metadata": {},
   "outputs": [],
   "source": [
    "path_to_files = \"resources/subject_*.pkl\"\n",
    "files = glob.glob(path_to_files)\n",
    "\n",
    "trees_s = []\n",
    "for file in files:\n",
    "    with open(file, \"rb\") as f:\n",
    "        subj = pickle.load(f)\n",
    "        trees_s.append(subj)"
   ]
  },
  {
   "cell_type": "markdown",
   "id": "18d6029f-8a85-4d4d-bc92-d5d1dde92462",
   "metadata": {},
   "source": [
    "Переформатируем полиномиальные деревья в вид матрицы линейных уравнений"
   ]
  },
  {
   "cell_type": "code",
   "execution_count": null,
   "id": "ff675ad6-0952-404a-8365-623eab603b90",
   "metadata": {},
   "outputs": [],
   "source": [
    "mx = np.array(\n",
    "    [\n",
    "        [\n",
    "            [tree.node_to_equation().diff(sympy.Symbol(\"№\"+el)) for el in electrodes]\n",
    "            +[tree.node_to_equation().func(*[term for term in tree.node_to_equation().args if not term.free_symbols])]\n",
    "            for col, tree in zip(electrodes, trees)\n",
    "        ] for trees in trees_s\n",
    "    ] \n",
    ")\n",
    "data = {\n",
    "    'mx': mx,\n",
    "    'key': [files, electrodes, electrodes+[1]]\n",
    "}"
   ]
  },
  {
   "cell_type": "code",
   "execution_count": null,
   "id": "9413438b-09db-48d2-a1d8-9f2cafdcdede",
   "metadata": {},
   "outputs": [],
   "source": [
    "with open(output_file, \"wb\") as f:\n",
    "    pickle.dump(data, f)"
   ]
  }
 ],
 "metadata": {
  "kernelspec": {
   "display_name": "Python 3 (ipykernel)",
   "language": "python",
   "name": "python3"
  },
  "language_info": {
   "codemirror_mode": {
    "name": "ipython",
    "version": 3
   },
   "file_extension": ".py",
   "mimetype": "text/x-python",
   "name": "python",
   "nbconvert_exporter": "python",
   "pygments_lexer": "ipython3",
   "version": "3.9.1"
  }
 },
 "nbformat": 4,
 "nbformat_minor": 5
}
