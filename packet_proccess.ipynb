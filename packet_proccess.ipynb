{
 "cells": [
  {
   "cell_type": "markdown",
   "id": "cde3968b-46ad-46f6-9356-695b46547b3e",
   "metadata": {},
   "source": [
    "## Пакетная обработка данных ЭЭГ по пациентам"
   ]
  },
  {
   "cell_type": "code",
   "execution_count": 12,
   "id": "2ce54441-2d36-4599-98ac-ce77bc9058c4",
   "metadata": {},
   "outputs": [],
   "source": [
    "from scipy.io import loadmat\n",
    "import time\n",
    "import os, glob\n",
    "import pandas as pd\n",
    "import numpy as np\n",
    "import sympy\n",
    "import pickle\n",
    "from matplotlib import pyplot as plt\n",
    "from tqdm.notebook import tqdm\n",
    "\n",
    "import polynomial as pln"
   ]
  },
  {
   "cell_type": "markdown",
   "id": "8a3b5cc4-fc17-47d4-9999-cd62e626209a",
   "metadata": {},
   "source": [
    "Настройка базовых параметров и файлов данных"
   ]
  },
  {
   "cell_type": "code",
   "execution_count": 2,
   "id": "5cf3b77d-7138-4063-aca8-e58182688563",
   "metadata": {},
   "outputs": [],
   "source": [
    "max_layer=10 # максимальное число слоёв в сети\n",
    "\n",
    "retry_num = 7 # максимальное количество попыток рачсёта при одном значении критерия сходимости\n",
    "error_goal = 0.005 # целевое значение среднеквадратиченой ошибки\n",
    "conv_thres_b = 0.02 # базовое значение критерия сходимости\n",
    "conv_thres_min = 0.01 # минимальное значение критерия сходимости\n",
    "\n",
    "n_points = 100 # количество точек в обучающей выборке\n",
    "\n",
    "path_to_files = \"resources/subject_*.mat\"\n",
    "output_file = \"resources/subjects_mx.pkl\"\n",
    "files = glob.glob(path_to_files)"
   ]
  },
  {
   "cell_type": "markdown",
   "id": "83aba5c0-cfd2-4ba5-a5d2-a213515b6939",
   "metadata": {},
   "source": [
    "Настройка формата данных ЭЭГ"
   ]
  },
  {
   "cell_type": "code",
   "execution_count": 3,
   "id": "e5f3a9e4-f813-420e-969a-3399c4cae7d8",
   "metadata": {},
   "outputs": [],
   "source": [
    "electrodes = [\n",
    "    'Fp1',\n",
    "    'Fp2',\n",
    "    'Fc5',\n",
    "    'Fz',\n",
    "    'Fc6',\n",
    "    'T7',\n",
    "    'Cz',\n",
    "    'T8',\n",
    "    'P7',\n",
    "    'P3',\n",
    "    'Pz',\n",
    "    'P4',\n",
    "    'P8',\n",
    "    'O1',\n",
    "    'Oz',\n",
    "    'O2'\n",
    "]\n",
    "col_map = ['time']+electrodes\n",
    "train_ids = electrodes"
   ]
  },
  {
   "cell_type": "markdown",
   "id": "f12980ed-2545-465e-9259-d69ac1224c47",
   "metadata": {},
   "source": [
    "Цикл обработки"
   ]
  },
  {
   "cell_type": "code",
   "execution_count": 13,
   "id": "b6f5acc6-bb59-4b47-bfa3-9d075eb08089",
   "metadata": {},
   "outputs": [
    {
     "data": {
      "application/vnd.jupyter.widget-view+json": {
       "model_id": "4e72bc82ae7c4758b4e34879cac2366e",
       "version_major": 2,
       "version_minor": 0
      },
      "text/plain": [
       "  0%|          | 0/10 [00:00<?, ?it/s]"
      ]
     },
     "metadata": {},
     "output_type": "display_data"
    },
    {
     "data": {
      "application/vnd.jupyter.widget-view+json": {
       "model_id": "c020e81c5d7d450c91f02a588e2af5d0",
       "version_major": 2,
       "version_minor": 0
      },
      "text/plain": [
       "  0%|          | 0/16 [00:00<?, ?it/s]"
      ]
     },
     "metadata": {},
     "output_type": "display_data"
    },
    {
     "data": {
      "application/vnd.jupyter.widget-view+json": {
       "model_id": "f9d79328e62f4109af644032e3fb8e9d",
       "version_major": 2,
       "version_minor": 0
      },
      "text/plain": [
       "  0%|          | 0/16 [00:00<?, ?it/s]"
      ]
     },
     "metadata": {},
     "output_type": "display_data"
    },
    {
     "ename": "KeyboardInterrupt",
     "evalue": "",
     "output_type": "error",
     "traceback": [
      "\u001b[1;31m---------------------------------------------------------------------------\u001b[0m",
      "\u001b[1;31mKeyboardInterrupt\u001b[0m                         Traceback (most recent call last)",
      "\u001b[1;32mC:\\Users\\E146~1\\AppData\\Local\\Temp/ipykernel_2708/3779190687.py\u001b[0m in \u001b[0;36m<module>\u001b[1;34m\u001b[0m\n\u001b[0;32m     42\u001b[0m                     \u001b[0mtree\u001b[0m\u001b[1;33m,\u001b[0m \u001b[0merror\u001b[0m \u001b[1;33m=\u001b[0m \u001b[0mntree\u001b[0m\u001b[1;33m,\u001b[0m \u001b[0mnerror\u001b[0m\u001b[1;33m\u001b[0m\u001b[1;33m\u001b[0m\u001b[0m\n\u001b[0;32m     43\u001b[0m                     \u001b[0mntree\u001b[0m\u001b[1;33m.\u001b[0m\u001b[0mnew_layer\u001b[0m\u001b[1;33m(\u001b[0m\u001b[0mrestrictions\u001b[0m\u001b[1;33m=\u001b[0m\u001b[1;33m[\u001b[0m\u001b[1;36m0\u001b[0m\u001b[1;33m,\u001b[0m\u001b[1;36m1\u001b[0m\u001b[1;33m,\u001b[0m\u001b[1;36m0\u001b[0m\u001b[1;33m,\u001b[0m\u001b[1;36m1\u001b[0m\u001b[1;33m,\u001b[0m\u001b[1;36m0\u001b[0m\u001b[1;33m,\u001b[0m\u001b[1;36m1\u001b[0m\u001b[1;33m]\u001b[0m\u001b[1;33m,\u001b[0m \u001b[0mk\u001b[0m\u001b[1;33m=\u001b[0m\u001b[1;36m5\u001b[0m\u001b[1;33m)\u001b[0m\u001b[1;33m\u001b[0m\u001b[1;33m\u001b[0m\u001b[0m\n\u001b[1;32m---> 44\u001b[1;33m                     \u001b[0mntree\u001b[0m\u001b[1;33m.\u001b[0m\u001b[0mregress\u001b[0m\u001b[1;33m(\u001b[0m\u001b[0mtraining_set\u001b[0m\u001b[1;33m,\u001b[0m \u001b[0mtraining_goal\u001b[0m\u001b[1;33m,\u001b[0m \u001b[0mconv_thres\u001b[0m\u001b[1;33m=\u001b[0m\u001b[0mconv_thres\u001b[0m\u001b[1;33m)\u001b[0m\u001b[1;33m\u001b[0m\u001b[1;33m\u001b[0m\u001b[0m\n\u001b[0m\u001b[0;32m     45\u001b[0m                     \u001b[0mnerror\u001b[0m \u001b[1;33m=\u001b[0m \u001b[0mntree\u001b[0m\u001b[1;33m.\u001b[0m\u001b[0merror\u001b[0m\u001b[1;33m(\u001b[0m\u001b[1;33m)\u001b[0m\u001b[1;33m\u001b[0m\u001b[1;33m\u001b[0m\u001b[0m\n\u001b[0;32m     46\u001b[0m                     t_train_ids.set_postfix(ordered_dict={\n",
      "\u001b[1;32mH:\\JupyterLab\\tf-poly\\polynomial.py\u001b[0m in \u001b[0;36mregress\u001b[1;34m(self, input_values, true_values, conv_thres, iter_thres)\u001b[0m\n\u001b[0;32m    176\u001b[0m                 \u001b[1;32mfor\u001b[0m \u001b[0mnn\u001b[0m\u001b[1;33m,\u001b[0m \u001b[0mnode\u001b[0m \u001b[1;32min\u001b[0m \u001b[0menumerate\u001b[0m\u001b[1;33m(\u001b[0m\u001b[0mlast_layer_nodes\u001b[0m\u001b[1;33m)\u001b[0m\u001b[1;33m:\u001b[0m\u001b[1;33m\u001b[0m\u001b[1;33m\u001b[0m\u001b[0m\n\u001b[0;32m    177\u001b[0m                     \u001b[0mweights_n\u001b[0m\u001b[1;33m[\u001b[0m\u001b[0mnode\u001b[0m\u001b[1;33m]\u001b[0m \u001b[1;33m=\u001b[0m \u001b[0mweights_n\u001b[0m\u001b[1;33m[\u001b[0m\u001b[0mnode\u001b[0m\u001b[1;33m]\u001b[0m\u001b[1;33m-\u001b[0m\u001b[0mgrad\u001b[0m\u001b[1;33m[\u001b[0m\u001b[0mnn\u001b[0m\u001b[1;33m]\u001b[0m\u001b[1;33m*\u001b[0m\u001b[0mlast_layer_restrictions\u001b[0m\u001b[1;33m[\u001b[0m\u001b[0mnn\u001b[0m\u001b[1;33m]\u001b[0m\u001b[1;33m*\u001b[0m\u001b[0mstep\u001b[0m\u001b[1;33m[\u001b[0m\u001b[0mnn\u001b[0m\u001b[1;33m]\u001b[0m\u001b[1;33m\u001b[0m\u001b[1;33m\u001b[0m\u001b[0m\n\u001b[1;32m--> 178\u001b[1;33m                 \u001b[0mvalues_n\u001b[0m \u001b[1;33m=\u001b[0m \u001b[0mself\u001b[0m\u001b[1;33m.\u001b[0m\u001b[0mcalculate\u001b[0m\u001b[1;33m(\u001b[0m\u001b[0minput_values\u001b[0m\u001b[1;33m,\u001b[0m \u001b[0mweights\u001b[0m\u001b[1;33m=\u001b[0m\u001b[0mweights_n\u001b[0m\u001b[1;33m)\u001b[0m\u001b[1;33m\u001b[0m\u001b[1;33m\u001b[0m\u001b[0m\n\u001b[0m\u001b[0;32m    179\u001b[0m                 \u001b[0mvn\u001b[0m \u001b[1;33m=\u001b[0m \u001b[0mnp\u001b[0m\u001b[1;33m.\u001b[0m\u001b[0msum\u001b[0m\u001b[1;33m(\u001b[0m\u001b[0mnp\u001b[0m\u001b[1;33m.\u001b[0m\u001b[0marray\u001b[0m\u001b[1;33m(\u001b[0m\u001b[1;33m[\u001b[0m\u001b[0mvalues_n\u001b[0m\u001b[1;33m[\u001b[0m\u001b[0mn\u001b[0m\u001b[1;33m]\u001b[0m \u001b[1;32mfor\u001b[0m \u001b[0mn\u001b[0m \u001b[1;32min\u001b[0m \u001b[0mlast_layer_nodes\u001b[0m\u001b[1;33m]\u001b[0m\u001b[1;33m)\u001b[0m\u001b[1;33m,\u001b[0m \u001b[0maxis\u001b[0m\u001b[1;33m=\u001b[0m\u001b[1;36m1\u001b[0m\u001b[1;33m)\u001b[0m\u001b[1;33m\u001b[0m\u001b[1;33m\u001b[0m\u001b[0m\n\u001b[0;32m    180\u001b[0m                 \u001b[0merror_n\u001b[0m \u001b[1;33m=\u001b[0m \u001b[0mnp\u001b[0m\u001b[1;33m.\u001b[0m\u001b[0marray\u001b[0m\u001b[1;33m(\u001b[0m\u001b[1;33m[\u001b[0m\u001b[0mvalues_n\u001b[0m\u001b[1;33m[\u001b[0m\u001b[0mnode\u001b[0m\u001b[1;33m]\u001b[0m \u001b[1;33m-\u001b[0m \u001b[0mtrue_values\u001b[0m \u001b[1;32mfor\u001b[0m \u001b[0mnode\u001b[0m \u001b[1;32min\u001b[0m \u001b[0mlast_layer_nodes\u001b[0m\u001b[1;33m]\u001b[0m\u001b[1;33m)\u001b[0m\u001b[1;33m\u001b[0m\u001b[1;33m\u001b[0m\u001b[0m\n",
      "\u001b[1;32mH:\\JupyterLab\\tf-poly\\polynomial.py\u001b[0m in \u001b[0;36mcalculate\u001b[1;34m(self, input_values, weights)\u001b[0m\n\u001b[0;32m    123\u001b[0m             \u001b[0mleft\u001b[0m \u001b[1;33m=\u001b[0m \u001b[0mnp\u001b[0m\u001b[1;33m.\u001b[0m\u001b[0marray\u001b[0m\u001b[1;33m(\u001b[0m\u001b[0minput_values\u001b[0m\u001b[1;33m[\u001b[0m\u001b[0mnleft\u001b[0m\u001b[1;33m]\u001b[0m\u001b[1;33m)\u001b[0m\u001b[1;33m\u001b[0m\u001b[1;33m\u001b[0m\u001b[0m\n\u001b[0;32m    124\u001b[0m             \u001b[0mright\u001b[0m \u001b[1;33m=\u001b[0m \u001b[0mnp\u001b[0m\u001b[1;33m.\u001b[0m\u001b[0marray\u001b[0m\u001b[1;33m(\u001b[0m\u001b[0minput_values\u001b[0m\u001b[1;33m[\u001b[0m\u001b[0mnright\u001b[0m\u001b[1;33m]\u001b[0m\u001b[1;33m)\u001b[0m\u001b[1;33m\u001b[0m\u001b[1;33m\u001b[0m\u001b[0m\n\u001b[1;32m--> 125\u001b[1;33m             \u001b[0minput_values\u001b[0m\u001b[1;33m[\u001b[0m\u001b[0mnode\u001b[0m\u001b[1;33m]\u001b[0m \u001b[1;33m=\u001b[0m \u001b[0mnp\u001b[0m\u001b[1;33m.\u001b[0m\u001b[0meinsum\u001b[0m\u001b[1;33m(\u001b[0m\u001b[1;34m\"ij,i->j\"\u001b[0m\u001b[1;33m,\u001b[0m \u001b[0mbinomial\u001b[0m\u001b[1;33m(\u001b[0m\u001b[1;33m(\u001b[0m\u001b[0mleft\u001b[0m\u001b[1;33m,\u001b[0m \u001b[0mright\u001b[0m\u001b[1;33m)\u001b[0m\u001b[1;33m)\u001b[0m\u001b[1;33m,\u001b[0m \u001b[0mweights\u001b[0m\u001b[1;33m[\u001b[0m\u001b[0mnode\u001b[0m\u001b[1;33m]\u001b[0m\u001b[1;33m)\u001b[0m\u001b[1;33m\u001b[0m\u001b[1;33m\u001b[0m\u001b[0m\n\u001b[0m\u001b[0;32m    126\u001b[0m         \u001b[1;32mreturn\u001b[0m \u001b[0minput_values\u001b[0m\u001b[1;33m\u001b[0m\u001b[1;33m\u001b[0m\u001b[0m\n\u001b[0;32m    127\u001b[0m \u001b[1;33m\u001b[0m\u001b[0m\n",
      "\u001b[1;32m<__array_function__ internals>\u001b[0m in \u001b[0;36meinsum\u001b[1;34m(*args, **kwargs)\u001b[0m\n",
      "\u001b[1;32mc:\\users\\кормак\\appdata\\local\\programs\\python\\python39\\lib\\site-packages\\numpy\\core\\einsumfunc.py\u001b[0m in \u001b[0;36meinsum\u001b[1;34m(out, optimize, *operands, **kwargs)\u001b[0m\n\u001b[0;32m   1357\u001b[0m         \u001b[1;32mif\u001b[0m \u001b[0mspecified_out\u001b[0m\u001b[1;33m:\u001b[0m\u001b[1;33m\u001b[0m\u001b[1;33m\u001b[0m\u001b[0m\n\u001b[0;32m   1358\u001b[0m             \u001b[0mkwargs\u001b[0m\u001b[1;33m[\u001b[0m\u001b[1;34m'out'\u001b[0m\u001b[1;33m]\u001b[0m \u001b[1;33m=\u001b[0m \u001b[0mout\u001b[0m\u001b[1;33m\u001b[0m\u001b[1;33m\u001b[0m\u001b[0m\n\u001b[1;32m-> 1359\u001b[1;33m         \u001b[1;32mreturn\u001b[0m \u001b[0mc_einsum\u001b[0m\u001b[1;33m(\u001b[0m\u001b[1;33m*\u001b[0m\u001b[0moperands\u001b[0m\u001b[1;33m,\u001b[0m \u001b[1;33m**\u001b[0m\u001b[0mkwargs\u001b[0m\u001b[1;33m)\u001b[0m\u001b[1;33m\u001b[0m\u001b[1;33m\u001b[0m\u001b[0m\n\u001b[0m\u001b[0;32m   1360\u001b[0m \u001b[1;33m\u001b[0m\u001b[0m\n\u001b[0;32m   1361\u001b[0m     \u001b[1;31m# Check the kwargs to avoid a more cryptic error later, without having to\u001b[0m\u001b[1;33m\u001b[0m\u001b[1;33m\u001b[0m\u001b[1;33m\u001b[0m\u001b[0m\n",
      "\u001b[1;31mKeyboardInterrupt\u001b[0m: "
     ]
    }
   ],
   "source": [
    "for file in tqdm(files, desc=\"subjects\"):\n",
    "\n",
    "    subj = loadmat(f\"{file}\")\n",
    "\n",
    "\n",
    "    subj = pd.DataFrame({\n",
    "        col: arr for col, arr in zip(col_map, np.transpose(subj['SIGNAL']))\n",
    "    })\n",
    "\n",
    "\n",
    "    trees = []\n",
    "\n",
    "    norm_map = {el: subj[el].values.max()-subj[el].values.min() for el in electrodes}\n",
    "    mean_map = {el: subj[el].mean() for el in electrodes}\n",
    "    control_set = {el:(subj[el].values-mean_map[el])/norm_map[el] for el in electrodes}\n",
    "\n",
    "    with tqdm(train_ids) as t_train_ids:\n",
    "        for train_id in t_train_ids:\n",
    "            t_train_ids.set_description(f\"{file}:{train_id}\")\n",
    "\n",
    "            t = time.time()\n",
    "            conv_thres = conv_thres_b\n",
    "            error = error_goal+1\n",
    "            try_n = 0\n",
    "            ids = np.random.randint(0, subj[train_id].size, n_points)\n",
    "            ids.sort()\n",
    "\n",
    "            training_goal = control_set[train_id][ids]\n",
    "            training_set = {el:(subj[el][ids]-mean_map[el])/norm_map[el] for el in electrodes if el != train_id}\n",
    "\n",
    "            while error > error_goal and conv_thres >= conv_thres_min:\n",
    "                t_train_ids.update()\n",
    "                try_n +=1\n",
    "                conv_thres = conv_thres_b*1/2**(try_n//retry_num)\n",
    "\n",
    "                layer_num=1\n",
    "                ntree = pln.Tree(inputs=np.array(list(training_set.keys())), restrictions=[0,1,0,1,0,1])\n",
    "                ntree.regress(training_set, training_goal, conv_thres=conv_thres)\n",
    "                nerror = error = ntree.error()\n",
    "                while layer_num < max_layer and nerror <= error:\n",
    "                    layer_num+=1\n",
    "                    tree, error = ntree, nerror\n",
    "                    ntree.new_layer(restrictions=[0,1,0,1,0,1], k=5)\n",
    "                    ntree.regress(training_set, training_goal, conv_thres=conv_thres)\n",
    "                    nerror = ntree.error()\n",
    "                    t_train_ids.set_postfix(ordered_dict={\n",
    "                        \"iteration\": try_n,\n",
    "                        \"mse\": error,\n",
    "                    })\n",
    "                    t_train_ids.update()\n",
    "            tree.prune(top_k=1)\n",
    "            trees.append(tree)\n",
    "\n",
    "    with open(f\"{file}.pkl\", \"wb\") as f:\n",
    "        pickle.dump(trees, f)"
   ]
  },
  {
   "cell_type": "code",
   "execution_count": 14,
   "id": "a397a81f-31fc-4c08-bea7-dbd680dac765",
   "metadata": {},
   "outputs": [],
   "source": [
    "path_to_files = path_to_files+\".pkl\"\n",
    "files = glob.glob(path_to_files)\n",
    "\n",
    "trees_s = []\n",
    "for file in files:\n",
    "    with open(file, \"rb\") as f:\n",
    "        subj = pickle.load(f)\n",
    "        trees_s.append(subj)"
   ]
  },
  {
   "cell_type": "markdown",
   "id": "18d6029f-8a85-4d4d-bc92-d5d1dde92462",
   "metadata": {},
   "source": [
    "Переформатируем полиномиальные деревья в вид матрицы линейных уравнений"
   ]
  },
  {
   "cell_type": "code",
   "execution_count": 15,
   "id": "ff675ad6-0952-404a-8365-623eab603b90",
   "metadata": {},
   "outputs": [],
   "source": [
    "mx = np.array(\n",
    "    [\n",
    "        [\n",
    "            [tree.node_to_equation().diff(sympy.Symbol(\"№\"+el)) for el in electrodes]\n",
    "            +[tree.node_to_equation().func(*[term for term in tree.node_to_equation().args if not term.free_symbols])]\n",
    "            for col, tree in zip(electrodes, trees)\n",
    "        ] for trees in trees_s\n",
    "    ] \n",
    ")\n",
    "data = {\n",
    "    'mx': mx,\n",
    "    'key': [files, electrodes, electrodes+[1]]\n",
    "}"
   ]
  },
  {
   "cell_type": "code",
   "execution_count": 16,
   "id": "9413438b-09db-48d2-a1d8-9f2cafdcdede",
   "metadata": {},
   "outputs": [],
   "source": [
    "with open(output_file, \"wb\") as f:\n",
    "    pickle.dump(data, f)"
   ]
  },
  {
   "cell_type": "code",
   "execution_count": null,
   "id": "49f973fc-c21b-480a-b75c-2479918e4d65",
   "metadata": {},
   "outputs": [],
   "source": []
  }
 ],
 "metadata": {
  "kernelspec": {
   "display_name": "Python 3 (ipykernel)",
   "language": "python",
   "name": "python3"
  },
  "language_info": {
   "codemirror_mode": {
    "name": "ipython",
    "version": 3
   },
   "file_extension": ".py",
   "mimetype": "text/x-python",
   "name": "python",
   "nbconvert_exporter": "python",
   "pygments_lexer": "ipython3",
   "version": "3.9.1"
  }
 },
 "nbformat": 4,
 "nbformat_minor": 5
}
