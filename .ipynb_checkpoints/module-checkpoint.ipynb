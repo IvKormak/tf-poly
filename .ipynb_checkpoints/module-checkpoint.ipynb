{
 "cells": [
  {
   "cell_type": "code",
   "execution_count": 1,
   "id": "7cfab365",
   "metadata": {},
   "outputs": [],
   "source": [
    "import tensorflow as tf\n",
    "from tensorflow import keras\n",
    "import numpy as np"
   ]
  },
  {
   "cell_type": "code",
   "execution_count": 175,
   "id": "ee311088",
   "metadata": {},
   "outputs": [],
   "source": [
    "class GMDH_layer(keras.layers.Layer):\n",
    "    \n",
    "    core_dim = 6\n",
    "    \n",
    "    def __init__(self, units, mask, weights=None):\n",
    "        super(GMDH_layer, self).__init__()\n",
    "        if weights == None:\n",
    "            self.w = tf.Variable(\n",
    "                initial_value=tf.ones_initializer()(shape=(GMDH_layer.core_dim, units), dtype=\"float32\"),\n",
    "                trainable=True,\n",
    "            )\n",
    "        else:\n",
    "            self.w = weights\n",
    "        \n",
    "        self.mask = mask\n",
    "        self.u=units\n",
    "\n",
    "    @tf.function\n",
    "    def call(self, t_inputs):\n",
    "        \"\"\"\n",
    "        t_inputs: N dim вектор\n",
    "        t_p: N dim вектор\n",
    "        \"\"\"\n",
    "        mask = self.mask\n",
    "        masked_inputs = tf.TensorArray(tf.float32, size=self.u)\n",
    "        for i in tf.range(self.u):\n",
    "            masked_inputs = masked_inputs.write(i, tf.boolean_mask(t_inputs, mask[i]))\n",
    "        masked_inputs = masked_inputs.stack()\n",
    "        return tf.reduce_sum(\n",
    "            tf.multiply(\n",
    "                tf.eye(self.u), \n",
    "                tf.linalg.matmul(\n",
    "                    binomial_core(masked_inputs), \n",
    "                    self.w)\n",
    "            ), 0)\n",
    "    \n",
    "        \n",
    "    \n",
    "class Model(keras.layers.Layer):\n",
    "    \n",
    "    def __init__(self, inputs, weights = None):\n",
    "        super(Model, self).__init__()\n",
    "        self.inputs = [f\"i{i}\" for i in range(inputs)]\n",
    "        self.connectivity_graph = {}\n",
    "        self.layers = []\n",
    "        self.init_layer(self.inputs, weights)\n",
    "        \n",
    "    def init_layer(self, inputs, weights = None):\n",
    "        com = [(x,y) for x in inputs for y in inputs if x != y]\n",
    "        m = tf.constant([[1 if i in j else 0 for j in com] for i in inputs])\n",
    "        layer = GMDH_layer(units = len(com), mask = tf.transpose(m), weights = weights)\n",
    "        connections = {f\"l{len(self.layers)}n{i}\": j for i, j in enumerate(com)}\n",
    "        self.connectivity_graph.update(connections)\n",
    "        self.layers.append(layer)\n",
    "    \n",
    "    def add_layer(self, weights = None):\n",
    "        prev = [x for x in self.connectivity_graph.keys() if f\"l{len(self.layers)-1}\" in x]\n",
    "        com = [(x,y) for x in prev for y in prev if x != y]\n",
    "        m = tf.constant([[1 if i in j else 0 for j in com] for i in prev])\n",
    "        layer = GMDH_layer(units = len(com), mask = tf.transpose(m), weights = weights)\n",
    "        connections = {f\"l{len(self.layers)}n{i}\": j for i, j in enumerate(com)}\n",
    "        self.connectivity_graph.update(connections)\n",
    "        self.layers.append(layer)\n",
    "          \n",
    "    def call(self, inputs):\n",
    "        x = inputs\n",
    "        for m_l in self.layers:\n",
    "            x = m_l(x)\n",
    "        return x        \n",
    "\n",
    "def invert_graph(graph):\n",
    "    res = {}\n",
    "    for key in graph:\n",
    "        for item in graph[key]:\n",
    "            if item in res:\n",
    "                res[item].append(key)\n",
    "            else:\n",
    "                res[item] = [key]\n",
    "    return(res)\n",
    "\n",
    "@tf.function\n",
    "def binomial_core(t_inputs):\n",
    "    \"\"\"\n",
    "    t_inputs: N*2 матрица\n",
    "    res: N*6 матрица\n",
    "    \"\"\"\n",
    "    one = tf.constant(1, shape=(1,), dtype=tf.float32)\n",
    "    res = tf.TensorArray(tf.float32, size=t_inputs.shape[0])\n",
    "    for i in tf.range(t_inputs.shape[0]):\n",
    "        res = res.write(i, \n",
    "        tf.concat(\n",
    "        [\n",
    "            t_inputs[i][0]**2,\n",
    "            t_inputs[i][0],\n",
    "            t_inputs[i][0]*t_inputs[i][1],\n",
    "            t_inputs[i][1],\n",
    "            t_inputs[i][1]**2,\n",
    "            one\n",
    "        ], axis=0))\n",
    "    return res.stack()"
   ]
  },
  {
   "cell_type": "code",
   "execution_count": null,
   "id": "b13ed6f0",
   "metadata": {},
   "outputs": [],
   "source": [
    "#tree representation\n",
    "\n",
    "class Bunch(dict):\n",
    "    def __init__(self, *args, **kwds):\n",
    "        super(Bunch, self).__init__(*args, **kwds)\n",
    "        self.__dict__ = self\n",
    "\n",
    "ops = (\n",
    "    lambda x,y,a:a[0]+a[1]*x+a[2]*y,\n",
    "    lambda x,y,a:a[0]+a[1]*x+a[2]*x^2*y,\n",
    "    lambda x,y,a:a[0]+a[1]*x+a[2]*x*y^2,\n",
    "    lambda x,y,a:a[0]+a[1]*x+a[2]*y^2,\n",
    "    lambda x,y,a:a[0]+a[1]*x+a[2]*x*y,\n",
    "    lambda x,y,a:a[0]+a[1]*x+a[2]*y^3,\n",
    ")\n",
    "\n",
    "test = lambda x,y: x^3+0.5*x*y+y+0.2\n",
    "\n",
    "def lse(f1, f2, *x):\n",
    "    return(f1(*x)-f2(*x))^2\n",
    "\n",
    "tree = lambda left, right, op: op(left, right)\n",
    "\n",
    "random.initializer = tf.normal_random_initializer(shape)\n",
    "\n",
    "epsilon = 0.1\n",
    "\n",
    "result = []\n",
    "error = 1\n",
    "\n",
    "inputs = [1,6]\n",
    "\n",
    "while error > epsilon:\n",
    "    "
   ]
  },
  {
   "cell_type": "code",
   "execution_count": 194,
   "id": "77bbf086",
   "metadata": {},
   "outputs": [],
   "source": [
    "inputs = tf.constant([1,2,3], shape=(3,1), dtype=tf.float32)\n",
    "weights = tf.transpose(tf.constant(\n",
    "    [[1,0,0,1,0,0],[0,1,0,0,1,0],[1,0,1,0,0,0],[0,0,0,1,1,1],[1,0,0,0,1,0],[1,0,0,0,0,1]], dtype = tf.float32))\n",
    "model = Model(3, weights)"
   ]
  },
  {
   "cell_type": "code",
   "execution_count": 195,
   "id": "f4e611f5",
   "metadata": {
    "scrolled": false
   },
   "outputs": [
    {
     "data": {
      "text/plain": [
       "<tf.Tensor: shape=(6,), dtype=float32, numpy=array([ 3., 10.,  3., 13., 10.,  5.], dtype=float32)>"
      ]
     },
     "execution_count": 195,
     "metadata": {},
     "output_type": "execute_result"
    }
   ],
   "source": [
    "model(inputs)"
   ]
  },
  {
   "cell_type": "code",
   "execution_count": 183,
   "id": "26bda86e",
   "metadata": {},
   "outputs": [
    {
     "data": {
      "text/plain": [
       "<tf.Tensor: shape=(6, 3), dtype=int32, numpy=\n",
       "array([[1, 1, 0],\n",
       "       [1, 0, 1],\n",
       "       [1, 1, 0],\n",
       "       [0, 1, 1],\n",
       "       [1, 0, 1],\n",
       "       [0, 1, 1]])>"
      ]
     },
     "execution_count": 183,
     "metadata": {},
     "output_type": "execute_result"
    }
   ],
   "source": [
    "model.layers[0].mask"
   ]
  },
  {
   "cell_type": "code",
   "execution_count": 171,
   "id": "1cb62218",
   "metadata": {},
   "outputs": [
    {
     "data": {
      "text/plain": [
       "{'l0n0': ('i0', 'i1'),\n",
       " 'l0n1': ('i0', 'i2'),\n",
       " 'l0n2': ('i1', 'i0'),\n",
       " 'l0n3': ('i1', 'i2'),\n",
       " 'l0n4': ('i2', 'i0'),\n",
       " 'l0n5': ('i2', 'i1'),\n",
       " 'l1n0': ('l0n0', 'l0n1'),\n",
       " 'l1n1': ('l0n0', 'l0n2'),\n",
       " 'l1n2': ('l0n0', 'l0n3'),\n",
       " 'l1n3': ('l0n0', 'l0n4'),\n",
       " 'l1n4': ('l0n0', 'l0n5'),\n",
       " 'l1n5': ('l0n1', 'l0n0'),\n",
       " 'l1n6': ('l0n1', 'l0n2'),\n",
       " 'l1n7': ('l0n1', 'l0n3'),\n",
       " 'l1n8': ('l0n1', 'l0n4'),\n",
       " 'l1n9': ('l0n1', 'l0n5'),\n",
       " 'l1n10': ('l0n2', 'l0n0'),\n",
       " 'l1n11': ('l0n2', 'l0n1'),\n",
       " 'l1n12': ('l0n2', 'l0n3'),\n",
       " 'l1n13': ('l0n2', 'l0n4'),\n",
       " 'l1n14': ('l0n2', 'l0n5'),\n",
       " 'l1n15': ('l0n3', 'l0n0'),\n",
       " 'l1n16': ('l0n3', 'l0n1'),\n",
       " 'l1n17': ('l0n3', 'l0n2'),\n",
       " 'l1n18': ('l0n3', 'l0n4'),\n",
       " 'l1n19': ('l0n3', 'l0n5'),\n",
       " 'l1n20': ('l0n4', 'l0n0'),\n",
       " 'l1n21': ('l0n4', 'l0n1'),\n",
       " 'l1n22': ('l0n4', 'l0n2'),\n",
       " 'l1n23': ('l0n4', 'l0n3'),\n",
       " 'l1n24': ('l0n4', 'l0n5'),\n",
       " 'l1n25': ('l0n5', 'l0n0'),\n",
       " 'l1n26': ('l0n5', 'l0n1'),\n",
       " 'l1n27': ('l0n5', 'l0n2'),\n",
       " 'l1n28': ('l0n5', 'l0n3'),\n",
       " 'l1n29': ('l0n5', 'l0n4')}"
      ]
     },
     "execution_count": 171,
     "metadata": {},
     "output_type": "execute_result"
    }
   ],
   "source": [
    "model.connectivity_graph"
   ]
  },
  {
   "cell_type": "code",
   "execution_count": 196,
   "id": "f6df22a9",
   "metadata": {},
   "outputs": [
    {
     "ename": "TypeError",
     "evalue": "'>' not supported between instances of 'int' and 'NoneType'",
     "output_type": "error",
     "traceback": [
      "\u001b[1;31m---------------------------------------------------------------------------\u001b[0m",
      "\u001b[1;31mTypeError\u001b[0m                                 Traceback (most recent call last)",
      "Cell \u001b[1;32mIn [196], line 1\u001b[0m\n\u001b[1;32m----> 1\u001b[0m \u001b[38;5;241;43m1\u001b[39;49m\u001b[38;5;241;43m>\u001b[39;49m\u001b[38;5;28;43;01mNone\u001b[39;49;00m\n",
      "\u001b[1;31mTypeError\u001b[0m: '>' not supported between instances of 'int' and 'NoneType'"
     ]
    }
   ],
   "source": [
    "1>None"
   ]
  },
  {
   "cell_type": "code",
   "execution_count": null,
   "id": "137be790",
   "metadata": {},
   "outputs": [],
   "source": []
  }
 ],
 "metadata": {
  "kernelspec": {
   "display_name": "Python 3 (ipykernel)",
   "language": "python",
   "name": "python3"
  },
  "language_info": {
   "codemirror_mode": {
    "name": "ipython",
    "version": 3
   },
   "file_extension": ".py",
   "mimetype": "text/x-python",
   "name": "python",
   "nbconvert_exporter": "python",
   "pygments_lexer": "ipython3",
   "version": "3.10.5"
  }
 },
 "nbformat": 4,
 "nbformat_minor": 5
}
