{
 "cells": [
  {
   "cell_type": "code",
   "execution_count": 1,
   "id": "b3c9e3a3",
   "metadata": {},
   "outputs": [],
   "source": [
    "import tensorflow as tf\n",
    "from tensorflow import keras\n",
    "import numpy as np"
   ]
  },
  {
   "cell_type": "code",
   "execution_count": 63,
   "id": "baf34b07",
   "metadata": {},
   "outputs": [],
   "source": [
    "ZERO = tf.constant(0)\n",
    "@tf.function\n",
    "def none_node(*args):\n",
    "    return ZERO"
   ]
  },
  {
   "cell_type": "code",
   "execution_count": 99,
   "id": "4707ad2f",
   "metadata": {},
   "outputs": [],
   "source": [
    "def node_generator(mask, left = none_node, right = none_node):\n",
    "    sp = mask\n",
    "    if left != none_node:\n",
    "        sp.append(1)\n",
    "    else:\n",
    "        sp.append(0)\n",
    "    if right != none_node:\n",
    "        sp.append(1)\n",
    "    else:\n",
    "        sp.append(0)\n",
    "    sp = tf.constant(sp)\n",
    "    @tf.function\n",
    "    def inner(weights, inputs):\n",
    "        i = tf.concat([inputs, [left(inputs)], [right(inputs)]], 0)\n",
    "        i = tf.boolean_mask(i, sp)\n",
    "        res = (\n",
    "            weights[0]*i[0]**2 +\n",
    "            weights[1]*i[0] + \n",
    "            weights[2]*i[0]*i[1] +\n",
    "            weights[3]*i[1] +\n",
    "            weights[4]*i[1]**2 +\n",
    "            weights[5]\n",
    "        )\n",
    "        return res\n",
    "    return inner"
   ]
  }
 ],
 "metadata": {
  "kernelspec": {
   "display_name": "Python 3 (ipykernel)",
   "language": "python",
   "name": "python3"
  },
  "language_info": {
   "codemirror_mode": {
    "name": "ipython",
    "version": 3
   },
   "file_extension": ".py",
   "mimetype": "text/x-python",
   "name": "python",
   "nbconvert_exporter": "python",
   "pygments_lexer": "ipython3",
   "version": "3.10.5"
  }
 },
 "nbformat": 4,
 "nbformat_minor": 5
}
