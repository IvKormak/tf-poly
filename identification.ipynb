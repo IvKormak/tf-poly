{
 "cells": [
  {
   "cell_type": "markdown",
   "id": "96b65bef-448d-42b5-b0d1-490cf17c911a",
   "metadata": {},
   "source": [
    "## Биометрическая идентификация по данным обработки ЭЭГ"
   ]
  },
  {
   "cell_type": "markdown",
   "id": "6b9539aa-d3a1-4bb1-aef7-9357cdd71e20",
   "metadata": {},
   "source": [
    "Если вы запускаете эту программу в первый раз, разкомментируйте следующую строку, чтобы сгенерировать необходимые файлы. Программа может работать достаточно долго!"
   ]
  },
  {
   "cell_type": "code",
   "execution_count": 1,
   "id": "83bdfa0d-61c2-42f2-bf6f-666ab7cb3929",
   "metadata": {},
   "outputs": [],
   "source": [
    "#%run packet_proccess.ipynb"
   ]
  },
  {
   "cell_type": "markdown",
   "id": "4985f838-62c4-4990-b06b-49494eb5d835",
   "metadata": {},
   "source": [
    "Несколько раз запустив наш алгоритм для обработки всех файлов, мы получили полиномы, настроенные на аппроксимацию сигналов с электродов для всех обработанных субъектов, и сохранили их в виде матрицы. Теперь продемонстрируем возможность идентификации пациента на основании этих данных"
   ]
  },
  {
   "cell_type": "code",
   "execution_count": 17,
   "id": "0e22e9f9-8346-42ab-aa9e-f8bca7c34407",
   "metadata": {},
   "outputs": [],
   "source": [
    "from scipy.io import loadmat\n",
    "import time\n",
    "import pandas as pd\n",
    "import numpy as np\n",
    "import sympy\n",
    "import pickle\n",
    "from matplotlib import pyplot as plt\n",
    "from matplotlib.patches import Rectangle"
   ]
  },
  {
   "cell_type": "markdown",
   "id": "6a4f7252-d0c6-4e94-bbba-3ff0b170a851",
   "metadata": {},
   "source": [
    "Загрузим наши данные в матричном виде"
   ]
  },
  {
   "cell_type": "code",
   "execution_count": 3,
   "id": "b6fc990f-bc28-4aff-ab49-59a3c1431e17",
   "metadata": {},
   "outputs": [],
   "source": [
    "with open(\"resources/subjects_mx.pkl\", 'rb') as f:\n",
    "    data = pickle.load(f)\n",
    "mx, mx_key = data['mx'], data['key']"
   ]
  },
  {
   "cell_type": "markdown",
   "id": "547b5426-3560-4b08-abab-68af138fffe6",
   "metadata": {},
   "source": [
    "Выберем файл данных для проверки индентификации"
   ]
  },
  {
   "cell_type": "code",
   "execution_count": 4,
   "id": "d17eff8b-c6c7-420a-bbfc-ba3819947b73",
   "metadata": {},
   "outputs": [],
   "source": [
    "subj = loadmat(f\"resources/subject_08.mat\")"
   ]
  },
  {
   "cell_type": "code",
   "execution_count": 5,
   "id": "40ff61a8-2702-4004-9939-7622c2f896b1",
   "metadata": {},
   "outputs": [],
   "source": [
    "electrodes = [\n",
    "    'Fp1',\n",
    "    'Fp2',\n",
    "    'Fc5',\n",
    "    'Fz',\n",
    "    'Fc6',\n",
    "    'T7',\n",
    "    'Cz',\n",
    "    'T8',\n",
    "    'P7',\n",
    "    'P3',\n",
    "    'Pz',\n",
    "    'P4',\n",
    "    'P8',\n",
    "    'O1',\n",
    "    'Oz',\n",
    "    'O2'\n",
    "]\n",
    "col_map = ['time']+electrodes\n",
    "\n",
    "subj = pd.DataFrame({\n",
    "    col: arr for col, arr in zip(col_map, np.transpose(subj['SIGNAL']))\n",
    "})\n",
    "\n",
    "norm_map = [subj[el].values.max()-subj[el].values.min() for el in electrodes]\n",
    "mean_map = [subj[el].mean() for el in electrodes]\n",
    "n_points = 10\n",
    "ids = np.random.randint(0, subj.index.size, n_points)\n",
    "rows = list(subj[electrodes].values[ids])\n",
    "for i, row in enumerate(rows):\n",
    "    rows[i] = (rows[i]-mean_map)/norm_map\n",
    "    rows[i] = np.concatenate([rows[i], [1]])\n",
    "rows = np.array(rows)\n",
    "\n",
    "l = np.einsum('mij,kj->mki', mx.astype(np.float32), rows)\n",
    "r = (subj[electrodes].values[ids]-mean_map)/norm_map"
   ]
  },
  {
   "cell_type": "markdown",
   "id": "b9bd5f45-0f32-4f99-bb8c-ccf29b2b40fe",
   "metadata": {},
   "source": [
    "Оценка близости тестовых данных к данным субъекта, для которого сконструирована каждая матрица уравнений, производится на основе косинусной меры\n",
    "$$ Score_i = {{Matrix_i \\cdot Data^T} \\over \\sqrt{(Matrix_i \\cdot Matrix_i^T)\\cdot (Data \\cdot Data^T)}} $$"
   ]
  },
  {
   "cell_type": "code",
   "execution_count": 12,
   "id": "9f0301c5-f406-41de-991b-d2b64195d8af",
   "metadata": {},
   "outputs": [],
   "source": [
    "score = np.array([np.einsum('ij,ij->', ll,r)/np.sqrt(np.einsum('ij,ij->', r,r)*np.einsum('ij,ij->', ll,ll)) for ll in l])\n"
   ]
  },
  {
   "cell_type": "code",
   "execution_count": 50,
   "id": "f1f24ef5-bba6-458a-86f3-b59a0d9b85ed",
   "metadata": {},
   "outputs": [
    {
     "data": {
      "image/png": "[encoded data removed]",
      "text/plain": [
       "<Figure size 432x288 with 1 Axes>"
      ]
     },
     "metadata": {
      "needs_background": "light"
     },
     "output_type": "display_data"
    }
   ],
   "source": [
    "ind = np.arange(len(score))\n",
    "fig, ax = plt.subplots()\n",
    "plt.xticks(ind, mx_key[0], rotation = -90)\n",
    "ax.bar(ind, score)\n",
    "ax.add_patch(Rectangle((-0.5,0.95), len(score), 0.05, alpha=0.5, facecolor=\"g\"))\n",
    "ax.set_title(\"Оценка схожести по записям\")\n",
    "plt.show()"
   ]
  },
  {
   "cell_type": "code",
   "execution_count": 15,
   "id": "876a13ca-b1d7-4025-9c78-09243e36b9d3",
   "metadata": {},
   "outputs": [
    {
     "name": "stdout",
     "output_type": "stream",
     "text": [
      "Источники, показавшие схожесть более 95%: resources\\subject_08.mat.pkl\n"
     ]
    }
   ],
   "source": [
    "p = mx_key[0][np.where(score>0.95)[0][0]]\n",
    "print(f\"Источники, показавшие схожесть более 95%: {p}\")"
   ]
  },
  {
   "cell_type": "code",
   "execution_count": null,
   "id": "24aee240-1660-4362-8c93-9daf188d8276",
   "metadata": {},
   "outputs": [],
   "source": []
  }
 ],
 "metadata": {
  "kernelspec": {
   "display_name": "Python 3 (ipykernel)",
   "language": "python",
   "name": "python3"
  },
  "language_info": {
   "codemirror_mode": {
    "name": "ipython",
    "version": 3
   },
   "file_extension": ".py",
   "mimetype": "text/x-python",
   "name": "python",
   "nbconvert_exporter": "python",
   "pygments_lexer": "ipython3",
   "version": "3.9.1"
  }
 },
 "nbformat": 4,
 "nbformat_minor": 5
}
