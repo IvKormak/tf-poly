{
 "cells": [
  {
   "cell_type": "code",
   "execution_count": 1,
   "id": "b3c9e3a3",
   "metadata": {},
   "outputs": [],
   "source": [
    "import tensorflow as tf\n",
    "from tensorflow import keras\n",
    "import numpy as np"
   ]
  },
  {
   "cell_type": "code",
   "execution_count": 2,
   "id": "965ff375",
   "metadata": {},
   "outputs": [],
   "source": [
    "MAX_GENERATIONS = 1000\n",
    "POPULATION_SIZE = 10\n",
    "MAX_GRAFT_SIZE = 10\n",
    "MAX_TREE_SIZE = 35\n",
    "\n",
    "MAX_GRAD = 1\n",
    "MAX_ERROR = 1\n",
    "\n",
    "WEIGHTS_NUM = 3\n",
    "TEST_POINTS = 100"
   ]
  },
  {
   "cell_type": "code",
   "execution_count": 3,
   "id": "88c3502d",
   "metadata": {},
   "outputs": [],
   "source": [
    "class Node(dict):\n",
    "    def __init__(self, *args, **kwds):\n",
    "        super(Node, self).__init__(*args, **kwds)\n",
    "        self.__dict__ = self\n",
    "    \n",
    "    def __call__(self, x):\n",
    "        i = [0,0]\n",
    "        if not isinstance(x, list):\n",
    "            x = list(x)\n",
    "        if not isinstance(self.left, int):\n",
    "            i[0] = x[self.left]\n",
    "        if not isinstance(self.right, int):\n",
    "            i[1] = x[self.right]\n",
    "        return self.op(i, self.weights)\n",
    "    \n",
    "    def __getitem__(self, key):\n",
    "        if key == 0:\n",
    "            return self.left\n",
    "        elif key == 1:\n",
    "            return self.right\n",
    "        else:\n",
    "            raise IndexError(f\"Tree has only 2 branches, can't get branch {key}\")\n",
    "\n",
    "    def __setitem__(self, key, value):\n",
    "        if key == 0:\n",
    "            self.left = value\n",
    "        elif key == 1:\n",
    "            self.right = value\n",
    "        else:\n",
    "            raise IndexError(f\"Tree has only 2 branches,  can't set branch {key}\")\n",
    "    \n",
    "    def __hash__(self):\n",
    "        return hash(\n",
    "            str(hash(self.op))\n",
    "            +str(hash(self.weights))\n",
    "            +str(hash(self.left))\n",
    "            +str(hash(self.right))\n",
    "        )\n",
    "    \n",
    "    def __repr__(self):\n",
    "        return ' '.join(('( l:', str(self.left), 'r:', str(self.right), ')'))\n",
    "        \n"
   ]
  },
  {
   "cell_type": "code",
   "execution_count": 4,
   "id": "4707ad2f",
   "metadata": {},
   "outputs": [],
   "source": [
    "def node_generator(node, test_inputs, test_results):\n",
    "    i = []\n",
    "    for point in test_inputs:\n",
    "        i.append([])\n",
    "        if isinstance(node.left, int):\n",
    "            i[-1].append(point[node.left])\n",
    "        else:\n",
    "            i[-1].append(node.left(test_inputs))\n",
    "        if isinstance(node.right, int):\n",
    "            i[-1].append(point[node.right])\n",
    "        else:\n",
    "            i[-1].append(node.right(test_inputs))\n",
    "    i = tf.constant(i, dtype=tf.float32)\n",
    "    test_results = tf.constant(test_results, dtype=tf.float32)\n",
    "    def inner(weights):\n",
    "        r = tf.TensorArray(tf.float32, size=i.shape[0])\n",
    "        for p in tf.range(i.shape[0]):\n",
    "            r = r.write(p, \n",
    "            (\n",
    "                weights[0]*i[p][0]**2 +\n",
    "                weights[1]*i[p][0] + \n",
    "                weights[2]*i[p][0]*i[p][1] +\n",
    "                weights[3]*i[p][1] +\n",
    "                weights[4]*i[p][1]**2 +\n",
    "                weights[5]\n",
    "            ))\n",
    "        r = r.stack()\n",
    "        r = r - test_results\n",
    "        r = r**2\n",
    "        return tf.reduce_sum(r)\n",
    "    return inner"
   ]
  },
  {
   "cell_type": "code",
   "execution_count": 63,
   "id": "cc5a1fba",
   "metadata": {},
   "outputs": [],
   "source": [
    "def lse(weights, test_inputs, test_results):\n",
    "    r = []\n",
    "    for p, y in zip(test_inputs, test_results):\n",
    "        r.append((bino(p, weights)-y)**2)\n",
    "    return sum(r)"
   ]
  },
  {
   "cell_type": "code",
   "execution_count": 70,
   "id": "96204772",
   "metadata": {},
   "outputs": [],
   "source": [
    "import random\n",
    "\n",
    "MAX_ITERATION = 1000\n",
    "\n",
    "def gradient_descent_node(node, test_inputs, test_results, descent_rate):\n",
    "    dw = tf.constant([descent_rate]*6, dtype=tf.float32)\n",
    "    ELEMENTARY = tf.eye(6, dtype=tf.float32)*dw+tf.ones([6,6])\n",
    "    grad = 999\n",
    "    step = 0\n",
    "    n = node_generator(node, test_inputs, test_results)\n",
    "    weights = tf.Variable([random.random() for _ in range(6)], dtype=tf.float32)\n",
    "    while tf.abs(grad) > MAX_GRAD:\n",
    "        err = tf.TensorArray(size=6, dtype=tf.float32)\n",
    "        err0 = lse(weights, test_inputs, test_results)\n",
    "        for i in tf.range(6):\n",
    "            tf.print(weights*ELEMENTARY[i])\n",
    "            err = err.write(i, (lse(weights*ELEMENTARY[i], test_inputs, test_results)-err0)/dw[i])\n",
    "        with tf.GradientTape() as t:\n",
    "            err2 = n(weights)\n",
    "        err = err.stack()\n",
    "        J = t.jacobian(err2, weights)\n",
    "        tf.print(err, J)\n",
    "        grad = tf.reduce_sum(err)\n",
    "        weights.assign_sub(descent_rate*err)\n",
    "        step += 1\n",
    "        tf.print(f\"step: {step}, J: {err}, grad: {grad}\")\n",
    "        if step > MAX_ITERATION:\n",
    "            break\n",
    "    return {\"error\": err, \"grad\": grad, \"weights\": weights}"
   ]
  },
  {
   "cell_type": "code",
   "execution_count": 7,
   "id": "68fd9323",
   "metadata": {},
   "outputs": [],
   "source": [
    "t_f = lambda x: x[0]**2 + 3*x[0]\n",
    "t_p = [(random.random()*20-10, random.random()*20-10) for _ in range(500)]\n",
    "t_y = list(map(t_f,t_p))\n",
    "t_y = [x/(max(t_y)-min(t_y)) for x in t_y]"
   ]
  },
  {
   "cell_type": "code",
   "execution_count": 31,
   "id": "d7336aba",
   "metadata": {},
   "outputs": [],
   "source": [
    "bino = lambda x, w: x[0]**2*w[0] + x[0]*w[1] + x[0]*x[1]*w[2] + x[1]**2*w[4] + x[1]*w[3] + w[5]\n",
    "n = Node(left=0, right=1, op=bino, weights=[0]*6)"
   ]
  },
  {
   "cell_type": "code",
   "execution_count": null,
   "id": "8dbbedb3",
   "metadata": {},
   "outputs": [
    {
     "name": "stdout",
     "output_type": "stream",
     "text": [
      "[0.574502289 0.715338647 0.683749616 0.232438952 0.450219303 0.511007369]\n",
      "[0.574501753 0.715339303 0.683749616 0.232438952 0.450219303 0.511007369]\n",
      "[0.574501753 0.715338647 0.683750272 0.232438952 0.450219303 0.511007369]\n",
      "[0.574501753 0.715338647 0.683749616 0.232439175 0.450219303 0.511007369]\n",
      "[0.574501753 0.715338647 0.683749616 0.232438952 0.450219721 0.511007369]\n",
      "[0.574501753 0.715338647 0.683749616 0.232438952 0.450219303 0.511007845]\n",
      "[875000 125000 625000 0 750000 0] [1753835.88 38170.2031 721948.062 15447.1416 1595218.12 35626.9102]\n",
      "step: 1, J: [875000. 125000. 625000.      0. 750000.      0.], grad: 2375000.0\n",
      "[-0.300498545 0.590338647 0.0587496161 0.232438952 -0.299780697 0.511007369]\n",
      "[-0.300498247 0.590339184 0.0587496161 0.232438952 -0.299780697 0.511007369]\n",
      "[-0.300498247 0.590338647 0.058749672 0.232438952 -0.299780697 0.511007369]\n",
      "[-0.300498247 0.590338647 0.0587496161 0.232439175 -0.299780697 0.511007369]\n",
      "[-0.300498247 0.590338647 0.0587496161 0.232438952 -0.299781 0.511007369]\n",
      "[-0.300498247 0.590338647 0.0587496161 0.232438952 -0.299780697 0.511007845]\n"
     ]
    }
   ],
   "source": [
    "gradient_descent_node(n, t_p, t_y, 1e-6)"
   ]
  },
  {
   "cell_type": "code",
   "execution_count": 12,
   "id": "95766f49",
   "metadata": {},
   "outputs": [],
   "source": [
    "a = tf.eye(6)*1e-7+tf.ones([6,6])"
   ]
  },
  {
   "cell_type": "code",
   "execution_count": 13,
   "id": "b0ff23a1",
   "metadata": {},
   "outputs": [
    {
     "data": {
      "text/plain": [
       "<tf.Tensor: shape=(6,), dtype=float32, numpy=\n",
       "array([1.0000001, 1.       , 1.       , 1.       , 1.       , 1.       ],\n",
       "      dtype=float32)>"
      ]
     },
     "execution_count": 13,
     "metadata": {},
     "output_type": "execute_result"
    }
   ],
   "source": [
    "a[0]"
   ]
  },
  {
   "cell_type": "code",
   "execution_count": 15,
   "id": "1db9e81b",
   "metadata": {},
   "outputs": [],
   "source": [
    "weights = tf.Variable([random.random() for _ in range(6)])"
   ]
  },
  {
   "cell_type": "code",
   "execution_count": 26,
   "id": "1ddaf3e8",
   "metadata": {},
   "outputs": [
    {
     "data": {
      "text/plain": [
       "3.2391796112060547"
      ]
     },
     "execution_count": 26,
     "metadata": {},
     "output_type": "execute_result"
    }
   ],
   "source": [
    "import time\n",
    "n=node_generator(n, t_p, t_y)\n",
    "t = time.time()\n",
    "n(weights)\n",
    "time.time()-t"
   ]
  },
  {
   "cell_type": "code",
   "execution_count": 34,
   "id": "6d8f0505",
   "metadata": {},
   "outputs": [
    {
     "data": {
      "text/plain": [
       "0.0015006065368652344"
      ]
     },
     "execution_count": 34,
     "metadata": {},
     "output_type": "execute_result"
    }
   ],
   "source": [
    "t = time.time()\n",
    "lse(n, t_p, t_y)\n",
    "time.time()-t"
   ]
  },
  {
   "cell_type": "code",
   "execution_count": 51,
   "id": "c06b94d4",
   "metadata": {},
   "outputs": [
    {
     "data": {
      "text/plain": [
       "<tf.Tensor: shape=(3, 3), dtype=float32, numpy=\n",
       "array([[1., 0., 0.],\n",
       "       [0., 2., 0.],\n",
       "       [0., 0., 3.]], dtype=float32)>"
      ]
     },
     "execution_count": 51,
     "metadata": {},
     "output_type": "execute_result"
    }
   ],
   "source": [
    "tf.eye(3, dtype=tf.float32)*tf.constant([1,2,3], dtype=tf.float32)"
   ]
  },
  {
   "cell_type": "code",
   "execution_count": null,
   "id": "d7555109",
   "metadata": {},
   "outputs": [],
   "source": []
  }
 ],
 "metadata": {
  "kernelspec": {
   "display_name": "Python 3 (ipykernel)",
   "language": "python",
   "name": "python3"
  },
  "language_info": {
   "codemirror_mode": {
    "name": "ipython",
    "version": 3
   },
   "file_extension": ".py",
   "mimetype": "text/x-python",
   "name": "python",
   "nbconvert_exporter": "python",
   "pygments_lexer": "ipython3",
   "version": "3.9.1"
  }
 },
 "nbformat": 4,
 "nbformat_minor": 5
}
