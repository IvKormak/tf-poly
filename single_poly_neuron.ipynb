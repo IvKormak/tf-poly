{
 "cells": [
  {
   "cell_type": "code",
   "execution_count": 4,
   "id": "b3c9e3a3",
   "metadata": {},
   "outputs": [],
   "source": [
    "import tensorflow as tf\n",
    "from tensorflow import keras\n",
    "import numpy as np"
   ]
  },
  {
   "cell_type": "code",
   "execution_count": 5,
   "id": "965ff375",
   "metadata": {},
   "outputs": [],
   "source": [
    "import time\n",
    "class Timer:\n",
    "    def __init__(self):\n",
    "        self.CURTIME = 0\n",
    "    def dtime(self, msg):\n",
    "        o, self.CURTIME = time.time_ns()/1000-self.CURTIME, time.time_ns()/1000\n",
    "        tf.print(f\"mark: {msg}, time since called: {o}\")"
   ]
  },
  {
   "cell_type": "code",
   "execution_count": 33,
   "id": "88c3502d",
   "metadata": {},
   "outputs": [],
   "source": [
    "class Node(dict):\n",
    "    def __init__(self, *args, **kwds):\n",
    "        super(Node, self).__init__(*args, **kwds)\n",
    "        self.__dict__ = self\n",
    "    \n",
    "    def __call__(self, x):\n",
    "        i = [0,0]\n",
    "        if not isinstance(x, list):\n",
    "            x = list(x)\n",
    "        if isinstance(self.left, int):\n",
    "            i[0] = x[self.left]\n",
    "        else:\n",
    "            i[0] = self.left(x)\n",
    "        if isinstance(self.right, int):\n",
    "            i[1] = x[self.right]\n",
    "        else:\n",
    "            i[1] = self.right(x)\n",
    "        return self.op(i, self.weights)\n",
    "    \n",
    "    def __getitem__(self, key):\n",
    "        if key == 0:\n",
    "            return self.left\n",
    "        elif key == 1:\n",
    "            return self.right\n",
    "        else:\n",
    "            raise IndexError(f\"Tree has only 2 branches, can't get branch {key}\")\n",
    "\n",
    "    def __setitem__(self, key, value):\n",
    "        if key == 0:\n",
    "            self.left = value\n",
    "        elif key == 1:\n",
    "            self.right = value\n",
    "        else:\n",
    "            raise IndexError(f\"Tree has only 2 branches,  can't set branch {key}\")\n",
    "    \n",
    "    def __hash__(self):\n",
    "        return hash(\n",
    "            str(hash(self.op))\n",
    "            +str(hash(self.weights))\n",
    "            +str(hash(self.left))\n",
    "            +str(hash(self.right))\n",
    "        )\n",
    "    \n",
    "    def __repr__(self):\n",
    "        w = self.weights\n",
    "        eq = f\"{w[0]}x^2 + {w[1]}x + {w[2]}xy + {w[3]}y + {w[4]}y^2 + {w[5]}\"\n",
    "        return ' '.join(('( eq:', eq, 'l:', str(self.left), 'r:', str(self.right), ')'))\n",
    "        \n"
   ]
  },
  {
   "cell_type": "code",
   "execution_count": 67,
   "id": "cc5a1fba",
   "metadata": {},
   "outputs": [],
   "source": [
    "def lse(weights, test_inputs, test_results):\n",
    "    r = []\n",
    "    for p, y in zip(test_inputs, test_results):\n",
    "        r.append((bino(p, weights)-y)**2)\n",
    "    return sum(r)/len(r)"
   ]
  },
  {
   "cell_type": "code",
   "execution_count": 77,
   "id": "4707ad2f",
   "metadata": {},
   "outputs": [],
   "source": [
    "def node_generator(node, test_inputs, test_results):\n",
    "    i = []\n",
    "    for point in test_inputs:\n",
    "        i.append([])\n",
    "        if isinstance(node.left, int):\n",
    "            i[-1].append(point[node.left])\n",
    "        else:\n",
    "            i[-1].append(node.left(test_inputs))\n",
    "        if isinstance(node.right, int):\n",
    "            i[-1].append(point[node.right])\n",
    "        else:\n",
    "            i[-1].append(node.right(test_inputs))\n",
    "    i = tf.constant(i, dtype=tf.float32)\n",
    "    test_results = tf.constant(test_results, dtype=tf.float32)\n",
    "    def inner(weights):\n",
    "        r = tf.TensorArray(tf.float32, size=i.shape[0])\n",
    "        for p in tf.range(i.shape[0]):\n",
    "            r = r.write(p, \n",
    "            (\n",
    "                weights[0]*i[p][0]**2 +\n",
    "                weights[1]*i[p][0] + \n",
    "                weights[2]*i[p][0]*i[p][1] +\n",
    "                weights[3]*i[p][1] +\n",
    "                weights[4]*i[p][1]**2 +\n",
    "                weights[5]\n",
    "            ))\n",
    "        r = r.stack()\n",
    "        r = r - test_results\n",
    "        r = r**2\n",
    "        return tf.reduce_sum(r)\n",
    "    return inner"
   ]
  },
  {
   "cell_type": "code",
   "execution_count": 88,
   "id": "68fd9323",
   "metadata": {},
   "outputs": [],
   "source": [
    "t_f = lambda x: 1/8*x[0]**2 + 3/8*x[0] + 2/8*x[0]*x[1]\n",
    "t_p = [(random.random()*2-10, random.random()*2-10) for _ in range(50)]\n",
    "t_y = list(map(t_f,t_p))"
   ]
  },
  {
   "cell_type": "code",
   "execution_count": 105,
   "id": "96204772",
   "metadata": {},
   "outputs": [],
   "source": [
    "import random\n",
    "\n",
    "MAX_ITERATION = 1000\n",
    "MAX_GRAD = 1\n",
    "MAX_ERR = 1\n",
    "GSF = 10000\n",
    "timer = Timer()\n",
    "def gradient_descent_node(node, test_inputs, test_results, descent_rate):\n",
    "    timer.dtime(\"init\")\n",
    "    #dw = tf.constant([descent_rate]*6, dtype=tf.float32)\n",
    "    #ELEMENTARY = tf.eye(6, dtype=tf.float32)*dw+tf.ones([6,6])\n",
    "    grad = 999\n",
    "    err = 999\n",
    "    step = 0\n",
    "    n = node_generator(node, test_inputs, test_results)\n",
    "    weights = tf.Variable([random.random() for _ in range(6)], dtype=tf.float32)\n",
    "    while tf.abs(grad) > MAX_GRAD and err > MAX_ERR:\n",
    "        timer.dtime(f\"step {step}\")\n",
    "        with tf.GradientTape() as t:\n",
    "            err = n(weights)\n",
    "        J = t.jacobian(err, weights)\n",
    "        timer.dtime(f\"jacob computed\")\n",
    "        grad = tf.reduce_sum(J)\n",
    "        err = tf.reduce_sum(err)\n",
    "        J = J/tf.sqrt(tf.reduce_sum(J**2)) #normalize Jacobi matrix\n",
    "        scale = 1-GSF/(GSF+tf.abs(grad))\n",
    "#       err0 = lse(weights, test_inputs, test_results)\n",
    "#       for i in tf.range(6):\n",
    "#           tf.print(weights*ELEMENTARY[i])\n",
    "#           err = err.write(i, (lse(weights*ELEMENTARY[i], test_inputs, test_results)-err0)/dw[i])\n",
    "#       err = err.stack()\n",
    "        weights.assign_sub(scale*descent_rate*J)\n",
    "        step += 1\n",
    "        timer.dtime(f\"step: {step}, J: {J}, err: {err}, grad: {grad}, descent speed: {scale*descent_rate}\")\n",
    "        if step > MAX_ITERATION:\n",
    "            break\n",
    "    return {\"error\": err, \"grad\": grad, \"weights\": weights}"
   ]
  },
  {
   "cell_type": "code",
   "execution_count": 106,
   "id": "8c2ead54",
   "metadata": {},
   "outputs": [
    {
     "data": {
      "text/plain": [
       "10.721016179748418"
      ]
     },
     "execution_count": 106,
     "metadata": {},
     "output_type": "execute_result"
    }
   ],
   "source": [
    "max(t_y)-min(t_y)"
   ]
  },
  {
   "cell_type": "code",
   "execution_count": 107,
   "id": "d7336aba",
   "metadata": {},
   "outputs": [],
   "source": [
    "bino = lambda x, w: x[0]**2*w[0] + x[0]*w[1] + x[0]*x[1]*w[2] + x[1]**2*w[4] + x[1]*w[3] + w[5]\n",
    "n = Node(left=0, right=1, op=bino, weights=[0]*6)"
   ]
  },
  {
   "cell_type": "code",
   "execution_count": null,
   "id": "8daa232b",
   "metadata": {},
   "outputs": [
    {
     "name": "stdout",
     "output_type": "stream",
     "text": [
      "mark: init, time since called: 1666776813830700.5\n",
      "mark: step 0, time since called: 14862.5\n"
     ]
    }
   ],
   "source": [
    "g = gradient_descent_node(n, t_p, t_y, 1e-1)\n",
    "n.weights = g[\"weights\"]\n",
    "n.err = g[\"error\"]"
   ]
  },
  {
   "cell_type": "code",
   "execution_count": null,
   "id": "3bee6c71",
   "metadata": {},
   "outputs": [],
   "source": [
    "n"
   ]
  },
  {
   "cell_type": "code",
   "execution_count": null,
   "id": "739612af",
   "metadata": {},
   "outputs": [],
   "source": [
    "from matplotlib import pyplot as plt\n",
    "\n",
    "r_x = np.linspace(-10, 10)\n",
    "r_y1 = [t_f([p, 0]) for p in r_x]\n",
    "r_y2 = [t_f([p, -5]) for p in r_x]\n",
    "r_y3 = [t_f([p, 5]) for p in r_x]\n",
    "n_y1 = [n([p, 0]) for p in r_x]\n",
    "n_y2 = [n([p, -5]) for p in r_x]\n",
    "n_y3 = [n([p, 5]) for p in r_x]\n",
    "\n",
    "plt.plot(\n",
    "    r_x, r_y1, \"r--\",\n",
    "    r_x, r_y2, \"g--\",\n",
    "    r_x, r_y3, \"b--\",\n",
    "    r_x, n_y1,  \"ro\",\n",
    "    r_x, n_y2,  \"go\",\n",
    "    r_x, n_y2,  \"bo\"\n",
    ")"
   ]
  },
  {
   "cell_type": "code",
   "execution_count": null,
   "id": "dfb88291",
   "metadata": {},
   "outputs": [],
   "source": [
    "проверить, что вызывает ретрейс на каждой итерации. Скорее всего, это node_generator. Проверить, перетрассируется ли функция. Попробовать ускорить jacobian"
   ]
  }
 ],
 "metadata": {
  "kernelspec": {
   "display_name": "Python 3 (ipykernel)",
   "language": "python",
   "name": "python3"
  },
  "language_info": {
   "codemirror_mode": {
    "name": "ipython",
    "version": 3
   },
   "file_extension": ".py",
   "mimetype": "text/x-python",
   "name": "python",
   "nbconvert_exporter": "python",
   "pygments_lexer": "ipython3",
   "version": "3.10.5"
  }
 },
 "nbformat": 4,
 "nbformat_minor": 5
}
